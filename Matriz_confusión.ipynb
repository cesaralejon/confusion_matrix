{
  "nbformat": 4,
  "nbformat_minor": 0,
  "metadata": {
    "colab": {
      "name": "Matriz_confusión.ipynb",
      "provenance": [],
      "authorship_tag": "ABX9TyMBiQ+pZ0HvWxWbOE7DlHWw",
      "include_colab_link": true
    },
    "kernelspec": {
      "name": "python3",
      "display_name": "Python 3"
    },
    "language_info": {
      "name": "python"
    }
  },
  "cells": [
    {
      "cell_type": "markdown",
      "metadata": {
        "id": "view-in-github",
        "colab_type": "text"
      },
      "source": [
        "<a href=\"https://colab.research.google.com/github/cesaralejon/confusion_matrix/blob/main/Matriz_confusi%C3%B3n.ipynb\" target=\"_parent\"><img src=\"https://colab.research.google.com/assets/colab-badge.svg\" alt=\"Open In Colab\"/></a>"
      ]
    },
    {
      "cell_type": "code",
      "execution_count": 1,
      "metadata": {
        "id": "qMWylJ18xa8Q"
      },
      "outputs": [],
      "source": [
        "import pandas as pd\n",
        "import matplotlib.pyplot as plt\n",
        "import seaborn as sns\n",
        "import numpy as np"
      ]
    },
    {
      "cell_type": "code",
      "source": [
        "matrizc = np.array([[87, 16], [17, 59]])\n",
        "matrizc"
      ],
      "metadata": {
        "colab": {
          "base_uri": "https://localhost:8080/"
        },
        "id": "P2TLtPmYxsX3",
        "outputId": "c72d99a7-519f-466b-9ec3-b5a8464e658d"
      },
      "execution_count": 2,
      "outputs": [
        {
          "output_type": "execute_result",
          "data": {
            "text/plain": [
              "array([[87, 16],\n",
              "       [17, 59]])"
            ]
          },
          "metadata": {},
          "execution_count": 2
        }
      ]
    },
    {
      "cell_type": "code",
      "source": [
        "puntos=(87 + 59) / (87 + 59 + 17 + 16)"
      ],
      "metadata": {
        "id": "MjP6DhuCx4It"
      },
      "execution_count": 3,
      "outputs": []
    },
    {
      "cell_type": "code",
      "source": [
        "plt.figure(figsize=(10,10))\n",
        "sns.heatmap(matrizc, annot=True,\n",
        "            square = True,\n",
        "            cmap = 'Blues')\n",
        "plt.ylabel('Actual label', fontsize = 12);\n",
        "plt.xlabel('Predicted label', fontsize = 12);\n",
        "plt.title('Accuracy Score: {}'.format(puntos), size = 12);\n",
        "plt.tick_params(labelsize= 12);\n"
      ],
      "metadata": {
        "colab": {
          "base_uri": "https://localhost:8080/",
          "height": 574
        },
        "id": "lM8_-mj0yHX_",
        "outputId": "2db1e60a-e90c-4b15-d3d4-2e050674e17e"
      },
      "execution_count": 17,
      "outputs": [
        {
          "output_type": "display_data",
          "data": {
            "image/png": "[encoded data removed]",
            "text/plain": [
              "<Figure size 720x720 with 2 Axes>"
            ]
          },
          "metadata": {
            "needs_background": "light"
          }
        }
      ]
    },
    {
      "cell_type": "markdown",
      "source": [
        "https://seaborn.pydata.org/generated/seaborn.heatmap.html\n",
        "https://matplotlib.org/stable/tutorials/colors/colormaps.html"
      ],
      "metadata": {
        "id": "XxngH1_rz6bM"
      }
    }
  ]
}